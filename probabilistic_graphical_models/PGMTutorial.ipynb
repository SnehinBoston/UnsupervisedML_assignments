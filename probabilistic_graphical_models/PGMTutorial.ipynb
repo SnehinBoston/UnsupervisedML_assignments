{
 "cells": [
  {
   "cell_type": "code",
   "execution_count": 1,
   "metadata": {},
   "outputs": [],
   "source": [
    "from pgmpy.factors.discrete import TabularCPD\n",
    "from pgmpy.models import BayesianModel"
   ]
  },
  {
   "cell_type": "code",
   "execution_count": 2,
   "metadata": {},
   "outputs": [],
   "source": [
    "# First set the structure.\n",
    "wc_model = BayesianModel([('Genetics','Performance'),\n",
    "                         ('Practice','Performance'),\n",
    "                         ('Performance','Offer')])"
   ]
  },
  {
   "cell_type": "code",
   "execution_count": 3,
   "metadata": {},
   "outputs": [],
   "source": [
    "# Then set up the relationships (the CPDs)\n",
    "genetics_cpd = TabularCPD(\n",
    "                variable = \"Genetics\",\n",
    "                variable_card = 2,\n",
    "                values = [[.2,.8]])"
   ]
  },
  {
   "cell_type": "code",
   "execution_count": 4,
   "metadata": {},
   "outputs": [],
   "source": [
    "practice_cpd = TabularCPD(\n",
    "                variable = 'Practice',\n",
    "                variable_card = 2,\n",
    "                values = [[.7,.3]])"
   ]
  },
  {
   "cell_type": "code",
   "execution_count": 5,
   "metadata": {},
   "outputs": [],
   "source": [
    "offer_cpd = TabularCPD(\n",
    "                variable = 'Offer',\n",
    "                variable_card = 2,    \n",
    "                values = [[.95, .8, .5],\n",
    "                          [0.05, .2, .5]],\n",
    "                evidence = ['Performance'],\n",
    "                evidence_card = [3])"
   ]
  },
  {
   "cell_type": "code",
   "execution_count": 7,
   "metadata": {},
   "outputs": [],
   "source": [
    "wc_trials_cpd = TabularCPD(\n",
    "                variable = 'Performance',\n",
    "                variable_card = 3,\n",
    "                values = [[.5,.8,.8,.9],\n",
    "                          [.3,.15,.1,.08],\n",
    "                          [.2,.05,.1,.02]],\n",
    "                evidence = ['Genetics','Practice'],\n",
    "                evidence_card = [2,2])"
   ]
  },
  {
   "cell_type": "code",
   "execution_count": 8,
   "metadata": {},
   "outputs": [],
   "source": [
    "# Add the relationship to the models\n",
    "wc_model.add_cpds(genetics_cpd, practice_cpd, offer_cpd, wc_trials_cpd)"
   ]
  },
  {
   "cell_type": "code",
   "execution_count": 9,
   "metadata": {},
   "outputs": [
    {
     "data": {
      "text/plain": [
       "[<TabularCPD representing P(Genetics:2) at 0x1a2aeb78d0>,\n",
       " <TabularCPD representing P(Practice:2) at 0x1a2aeb7ac8>,\n",
       " <TabularCPD representing P(Offer:2 | Performance:3) at 0x1a2aeb7f98>,\n",
       " <TabularCPD representing P(Performance:3 | Genetics:2, Practice:2) at 0x1a2aece6a0>]"
      ]
     },
     "execution_count": 9,
     "metadata": {},
     "output_type": "execute_result"
    }
   ],
   "source": [
    "wc_model.get_cpds()"
   ]
  },
  {
   "cell_type": "code",
   "execution_count": 10,
   "metadata": {},
   "outputs": [
    {
     "data": {
      "text/plain": [
       "{'Genetics': {'Genetics', 'Offer', 'Performance'}}"
      ]
     },
     "execution_count": 10,
     "metadata": {},
     "output_type": "execute_result"
    }
   ],
   "source": [
    "wc_model.active_trail_nodes('Genetics')"
   ]
  },
  {
   "cell_type": "code",
   "execution_count": 11,
   "metadata": {},
   "outputs": [
    {
     "data": {
      "text/plain": [
       "(Genetics _|_ Practice)"
      ]
     },
     "execution_count": 11,
     "metadata": {},
     "output_type": "execute_result"
    }
   ],
   "source": [
    "# Find Local independencies\n",
    "wc_model.local_independencies('Genetics')"
   ]
  },
  {
   "cell_type": "code",
   "execution_count": 12,
   "metadata": {},
   "outputs": [
    {
     "data": {
      "text/plain": []
     },
     "execution_count": 12,
     "metadata": {},
     "output_type": "execute_result"
    }
   ],
   "source": [
    "wc_model.local_independencies('Performance')"
   ]
  },
  {
   "cell_type": "code",
   "execution_count": 13,
   "metadata": {},
   "outputs": [
    {
     "data": {
      "text/plain": [
       "(Genetics _|_ Practice)\n",
       "(Genetics _|_ Offer | Performance)\n",
       "(Genetics _|_ Offer | Performance, Practice)\n",
       "(Practice _|_ Genetics)\n",
       "(Practice _|_ Offer | Performance)\n",
       "(Practice _|_ Offer | Performance, Genetics)\n",
       "(Offer _|_ Practice, Genetics | Performance)\n",
       "(Offer _|_ Genetics | Performance, Practice)\n",
       "(Offer _|_ Practice | Performance, Genetics)"
      ]
     },
     "execution_count": 13,
     "metadata": {},
     "output_type": "execute_result"
    }
   ],
   "source": [
    "wc_model.get_independencies()"
   ]
  },
  {
   "cell_type": "code",
   "execution_count": 14,
   "metadata": {},
   "outputs": [],
   "source": [
    "# Making Inferences\n",
    "# We can get probability distributions that are not explicitly spelled out in our graphs\n",
    "from pgmpy.inference import VariableElimination"
   ]
  },
  {
   "cell_type": "code",
   "execution_count": 15,
   "metadata": {},
   "outputs": [],
   "source": [
    "wc_infer = VariableElimination(wc_model)"
   ]
  },
  {
   "cell_type": "code",
   "execution_count": 17,
   "metadata": {},
   "outputs": [
    {
     "name": "stderr",
     "output_type": "stream",
     "text": [
      "Finding Elimination Order: : 100%|██████████| 3/3 [00:00<00:00, 2291.97it/s]\n",
      "Eliminating: Genetics: 100%|██████████| 3/3 [00:00<00:00, 479.17it/s]"
     ]
    },
    {
     "name": "stdout",
     "output_type": "stream",
     "text": [
      "+----------+--------------+\n",
      "| Offer    |   phi(Offer) |\n",
      "+==========+==============+\n",
      "| Offer(0) |       0.8898 |\n",
      "+----------+--------------+\n",
      "| Offer(1) |       0.1102 |\n",
      "+----------+--------------+\n"
     ]
    },
    {
     "name": "stderr",
     "output_type": "stream",
     "text": [
      "\n"
     ]
    }
   ],
   "source": [
    "prob_offer = wc_infer.query(variables = ['Offer'])\n",
    "print(prob_offer)"
   ]
  },
  {
   "cell_type": "code",
   "execution_count": 20,
   "metadata": {},
   "outputs": [
    {
     "name": "stderr",
     "output_type": "stream",
     "text": [
      "Finding Elimination Order: : 100%|██████████| 2/2 [00:00<00:00, 1493.96it/s]\n",
      "Eliminating: Practice: 100%|██████████| 2/2 [00:00<00:00, 715.02it/s]"
     ]
    },
    {
     "name": "stdout",
     "output_type": "stream",
     "text": [
      "+----------+--------------+\n",
      "| Offer    |   phi(Offer) |\n",
      "+==========+==============+\n",
      "| Offer(0) |       0.9017 |\n",
      "+----------+--------------+\n",
      "| Offer(1) |       0.0983 |\n",
      "+----------+--------------+\n"
     ]
    },
    {
     "name": "stderr",
     "output_type": "stream",
     "text": [
      "\n"
     ]
    }
   ],
   "source": [
    "# We can also get conditional probability distributions that take into account what we already know\n",
    "prob_offer_bad_genes = wc_infer.query(\n",
    "                                    variables = ['Offer'],\n",
    "                                    evidence = {'Genetics':1})\n",
    "print(prob_offer_bad_genes)"
   ]
  },
  {
   "cell_type": "code",
   "execution_count": 21,
   "metadata": {},
   "outputs": [
    {
     "name": "stderr",
     "output_type": "stream",
     "text": [
      "Finding Elimination Order: : 100%|██████████| 2/2 [00:00<00:00, 1473.75it/s]\n",
      "Eliminating: Practice: 100%|██████████| 2/2 [00:00<00:00, 669.16it/s]"
     ]
    },
    {
     "name": "stdout",
     "output_type": "stream",
     "text": [
      "+----------+--------------+\n",
      "| Offer    |   phi(Offer) |\n",
      "+==========+==============+\n",
      "| Offer(0) |       0.8420 |\n",
      "+----------+--------------+\n",
      "| Offer(1) |       0.1580 |\n",
      "+----------+--------------+\n"
     ]
    },
    {
     "name": "stderr",
     "output_type": "stream",
     "text": [
      "\n"
     ]
    }
   ],
   "source": [
    "prob_offer_good_genes = wc_infer.query(\n",
    "                                    variables = ['Offer'],\n",
    "                                    evidence = {'Genetics':0})\n",
    "print(prob_offer_good_genes)"
   ]
  },
  {
   "cell_type": "code",
   "execution_count": 22,
   "metadata": {},
   "outputs": [
    {
     "name": "stderr",
     "output_type": "stream",
     "text": [
      "Finding Elimination Order: : 100%|██████████| 1/1 [00:00<00:00, 825.16it/s]\n",
      "Eliminating: Performance: 100%|██████████| 1/1 [00:00<00:00, 643.99it/s]"
     ]
    },
    {
     "name": "stdout",
     "output_type": "stream",
     "text": [
      "+----------+--------------+\n",
      "| Offer    |   phi(Offer) |\n",
      "+==========+==============+\n",
      "| Offer(0) |       0.8150 |\n",
      "+----------+--------------+\n",
      "| Offer(1) |       0.1850 |\n",
      "+----------+--------------+\n"
     ]
    },
    {
     "name": "stderr",
     "output_type": "stream",
     "text": [
      "\n"
     ]
    }
   ],
   "source": [
    "prob_offer_good_genes_did_practice = wc_infer.query(\n",
    "                                        variables = ['Offer'],\n",
    "                                        evidence = {'Genetics': 0,'Practice': 0})\n",
    "print(prob_offer_good_genes_did_practice)"
   ]
  },
  {
   "cell_type": "code",
   "execution_count": 23,
   "metadata": {},
   "outputs": [
    {
     "name": "stderr",
     "output_type": "stream",
     "text": [
      "Finding Elimination Order: : 100%|██████████| 3/3 [00:00<00:00, 1854.25it/s]\n",
      "Eliminating: Genetics: 100%|██████████| 3/3 [00:00<00:00, 615.99it/s]\n"
     ]
    },
    {
     "data": {
      "text/plain": [
       "{'Offer': 0}"
      ]
     },
     "execution_count": 23,
     "metadata": {},
     "output_type": "execute_result"
    }
   ],
   "source": [
    "wc_infer.map_query(variables = ['Offer'])"
   ]
  },
  {
   "cell_type": "code",
   "execution_count": 24,
   "metadata": {},
   "outputs": [
    {
     "name": "stderr",
     "output_type": "stream",
     "text": [
      "Finding Elimination Order: : 100%|██████████| 3/3 [00:00<00:00, 2049.33it/s]\n",
      "Eliminating: Genetics: 100%|██████████| 3/3 [00:00<00:00, 846.54it/s]\n"
     ]
    },
    {
     "data": {
      "text/plain": [
       "{'Performance': 0}"
      ]
     },
     "execution_count": 24,
     "metadata": {},
     "output_type": "execute_result"
    }
   ],
   "source": [
    "wc_infer.map_query(variables = ['Performance'])"
   ]
  },
  {
   "cell_type": "code",
   "execution_count": 25,
   "metadata": {},
   "outputs": [
    {
     "name": "stderr",
     "output_type": "stream",
     "text": [
      "Finding Elimination Order: : 100%|██████████| 3/3 [00:00<00:00, 3111.50it/s]\n",
      "Eliminating: Practice: 100%|██████████| 3/3 [00:00<00:00, 761.63it/s]\n"
     ]
    },
    {
     "data": {
      "text/plain": [
       "{'Genetics': 1}"
      ]
     },
     "execution_count": 25,
     "metadata": {},
     "output_type": "execute_result"
    }
   ],
   "source": [
    "wc_infer.map_query(variables = ['Genetics'])"
   ]
  },
  {
   "cell_type": "code",
   "execution_count": 26,
   "metadata": {},
   "outputs": [
    {
     "name": "stderr",
     "output_type": "stream",
     "text": [
      "Finding Elimination Order: : 100%|██████████| 3/3 [00:00<00:00, 2247.35it/s]\n",
      "Eliminating: Genetics: 100%|██████████| 3/3 [00:00<00:00, 730.63it/s]\n"
     ]
    },
    {
     "data": {
      "text/plain": [
       "{'Practice': 0}"
      ]
     },
     "execution_count": 26,
     "metadata": {},
     "output_type": "execute_result"
    }
   ],
   "source": [
    "wc_infer.map_query(variables = ['Practice'])"
   ]
  },
  {
   "cell_type": "code",
   "execution_count": null,
   "metadata": {},
   "outputs": [],
   "source": []
  }
 ],
 "metadata": {
  "kernelspec": {
   "display_name": "Python 3",
   "language": "python",
   "name": "python3"
  },
  "language_info": {
   "codemirror_mode": {
    "name": "ipython",
    "version": 3
   },
   "file_extension": ".py",
   "mimetype": "text/x-python",
   "name": "python",
   "nbconvert_exporter": "python",
   "pygments_lexer": "ipython3",
   "version": "3.7.3"
  }
 },
 "nbformat": 4,
 "nbformat_minor": 2
}
